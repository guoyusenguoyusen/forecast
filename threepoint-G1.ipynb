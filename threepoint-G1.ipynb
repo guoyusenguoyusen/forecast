{
 "cells": [
  {
   "cell_type": "code",
   "execution_count": 1,
   "metadata": {
    "pycharm": {
     "name": "#%%\n"
    }
   },
   "outputs": [],
   "source": [
    "print(\"hello\")\n",
    "# 解析法没有做\n",
    "# 要插值懒得思考"
   ]
  },
  {
   "cell_type": "code",
   "execution_count": 2,
   "metadata": {
    "pycharm": {
     "name": "#%%\n"
    }
   },
   "outputs": [
    {
     "name": "stdout",
     "output_type": "stream",
     "text": [
      "2.718281828459045\n"
     ]
    }
   ],
   "source": [
    "import pandas as pd\n",
    "import math\n",
    "from sklearn.metrics import mean_squared_error\n",
    "from sklearn.metrics import mean_absolute_error\n",
    "# pip install scikit-learn\n",
    "import matplotlib.pyplot as plt\n",
    "import numpy as np\n",
    "e = math.e\n",
    "pi = math.pi\n",
    "import pandas as pd\n",
    "from scipy.optimize import curve_fit\n",
    "\n",
    "print(math.e)"
   ]
  },
  {
   "cell_type": "code",
   "execution_count": 3,
   "metadata": {
    "pycharm": {
     "name": "#%%\n"
    }
   },
   "outputs": [
    {
     "name": "stdout",
     "output_type": "stream",
     "text": [
      "[  4  11  18  25  32  39  46  53  60  67  74  81  88  95 102 109 116 123\n",
      " 130 137 144 151 157 164 171 178 185 192 198]\n",
      "[0.04 0.58 0.94 1.16 1.26 1.42 1.51 1.77 1.77 2.26 2.58 3.68 3.88 3.94\n",
      " 4.18 4.24 4.36 4.53 4.76 4.76 4.78 5.17 5.21 5.18 5.3  5.32 5.44 5.57\n",
      " 5.75]\n"
     ]
    }
   ],
   "source": [
    "import pandas as pd\n",
    "\n",
    "def read_excel_data(filename):\n",
    "    df = pd.read_excel(filename)\n",
    "    ds_data = df['t'].values\n",
    "    y_data = df['St'].values\n",
    "    return ds_data, y_data\n",
    "\n",
    "ds_data, y_data = read_excel_data('0578736G1.xlsx')\n",
    "print(ds_data)\n",
    "print(y_data)"
   ]
  },
  {
   "cell_type": "code",
   "execution_count": 4,
   "metadata": {
    "pycharm": {
     "name": "#%%\n"
    }
   },
   "outputs": [
    {
     "name": "stdout",
     "output_type": "stream",
     "text": [
      "4\n"
     ]
    }
   ],
   "source": [
    "s0 = y_data[0]\n",
    "t0 = ds_data[0]\n",
    "print(t0)"
   ]
  },
  {
   "cell_type": "code",
   "execution_count": 5,
   "metadata": {
    "pycharm": {
     "name": "#%%\n"
    }
   },
   "outputs": [
    {
     "name": "stdout",
     "output_type": "stream",
     "text": [
      "Fitted Parameters:\n",
      "定值a = 0.8105694691387022\n",
      "b = 0.006728864073525345\n",
      "最终沉降 8.000779365334852\n",
      "瞬时沉降Sd -2.2192161196831224\n",
      "x和y的相关系数: 0.9866660534489861\n"
     ]
    }
   ],
   "source": [
    "\n",
    "# C为s无穷\n",
    "# A定值\n",
    "# B为贝塔\n",
    "# D为瞬时沉降\n",
    "a=8/(pi**2)\n",
    "def custom_fit_function(x, b, c, d):\n",
    "    # Define your custom function here\n",
    "    return c*(1-a*e**(-b*x))+d*a*e**(-b*x)\n",
    "\n",
    "\n",
    "# Perform curve fitting using the custom function\n",
    "try:\n",
    "    params, _ = curve_fit(custom_fit_function, ds_data, y_data, maxfev=1000)\n",
    "    # Extract the fitted parameters\n",
    "    b_fit, c_fit, d_fit = params\n",
    "\n",
    "    # Print the fitted parameters\n",
    "    print(\"Fitted Parameters:\")\n",
    "    print(\"定值a =\", a)\n",
    "    print(\"b =\", b_fit)\n",
    "    print(\"最终沉降\", c_fit)\n",
    "    print(\"瞬时沉降Sd\", d_fit)\n",
    "except RuntimeError:\n",
    "    print(\"Optimal parameters not found. Try increasing the 'maxfev' parameter value.\")\n",
    " \n",
    "# 计算相关系数\n",
    "y_prediction = custom_fit_function(ds_data,b_fit,c_fit,d_fit)\n",
    "# print(y_prediction)\n",
    "correlation_coefficient = np.corrcoef(y_data, y_prediction)[0, 1]\n",
    "# 打印相关系数\n",
    "print(\"x和y的相关系数:\", correlation_coefficient)\n",
    "    "
   ]
  },
  {
   "cell_type": "code",
   "execution_count": 6,
   "metadata": {
    "pycharm": {
     "name": "#%%\n"
    }
   },
   "outputs": [
    {
     "name": "stdout",
     "output_type": "stream",
     "text": [
      "均方根误差: 0.2873501539391874\n",
      "平均绝对误差 0.23903902921976591\n"
     ]
    }
   ],
   "source": [
    "from sklearn.metrics import mean_squared_error\n",
    "from sklearn.metrics import mean_absolute_error\n",
    "rmse = np.sqrt(mean_squared_error(y_data, y_prediction))\n",
    "mae = mean_absolute_error(y_data, y_prediction)\n",
    "print(\"均方根误差:\", rmse)\n",
    "print(\"平均绝对误差\",mae)\n"
   ]
  }
 ],
 "metadata": {
  "kernelspec": {
   "display_name": "Python 3 (ipykernel)",
   "language": "python",
   "name": "python3"
  },
  "language_info": {
   "codemirror_mode": {
    "name": "ipython",
    "version": 3
   },
   "file_extension": ".py",
   "mimetype": "text/x-python",
   "name": "python",
   "nbconvert_exporter": "python",
   "pygments_lexer": "ipython3",
   "version": "3.11.5"
  }
 },
 "nbformat": 4,
 "nbformat_minor": 4
}
